{
 "cells": [
  {
   "cell_type": "code",
   "execution_count": 1,
   "metadata": {},
   "outputs": [
    {
     "name": "stderr",
     "output_type": "stream",
     "text": [
      "Using TensorFlow backend.\n",
      "/Users/CTR/miniconda3/envs/env1/lib/python3.7/site-packages/keras/datasets/reuters.py:85: VisibleDeprecationWarning: Creating an ndarray from ragged nested sequences (which is a list-or-tuple of lists-or-tuples-or ndarrays with different lengths or shapes) is deprecated. If you meant to do this, you must specify 'dtype=object' when creating the ndarray\n",
      "  x_train, y_train = np.array(xs[:idx]), np.array(labels[:idx])\n",
      "/Users/CTR/miniconda3/envs/env1/lib/python3.7/site-packages/keras/datasets/reuters.py:86: VisibleDeprecationWarning: Creating an ndarray from ragged nested sequences (which is a list-or-tuple of lists-or-tuples-or ndarrays with different lengths or shapes) is deprecated. If you meant to do this, you must specify 'dtype=object' when creating the ndarray\n",
      "  x_test, y_test = np.array(xs[idx:]), np.array(labels[idx:])\n"
     ]
    }
   ],
   "source": [
    "from keras.datasets import reuters\n",
    "\n",
    "(train_data, train_labels), (test_data, test_labels) = reuters.load_data(\n",
    "    num_words=10000)"
   ]
  },
  {
   "cell_type": "markdown",
   "metadata": {},
   "source": [
    "As with the IMDB dataset, the argument num_words=10000 restricts the data to the 10,000 most frequently occurring words found in the data."
   ]
  },
  {
   "cell_type": "code",
   "execution_count": 2,
   "metadata": {},
   "outputs": [
    {
     "data": {
      "text/plain": [
       "8982"
      ]
     },
     "execution_count": 2,
     "metadata": {},
     "output_type": "execute_result"
    }
   ],
   "source": [
    "len(train_data)"
   ]
  },
  {
   "cell_type": "code",
   "execution_count": 3,
   "metadata": {},
   "outputs": [
    {
     "data": {
      "text/plain": [
       "[1,\n",
       " 245,\n",
       " 273,\n",
       " 207,\n",
       " 156,\n",
       " 53,\n",
       " 74,\n",
       " 160,\n",
       " 26,\n",
       " 14,\n",
       " 46,\n",
       " 296,\n",
       " 26,\n",
       " 39,\n",
       " 74,\n",
       " 2979,\n",
       " 3554,\n",
       " 14,\n",
       " 46,\n",
       " 4689,\n",
       " 4329,\n",
       " 86,\n",
       " 61,\n",
       " 3499,\n",
       " 4795,\n",
       " 14,\n",
       " 61,\n",
       " 451,\n",
       " 4329,\n",
       " 17,\n",
       " 12]"
      ]
     },
     "execution_count": 3,
     "metadata": {},
     "output_type": "execute_result"
    }
   ],
   "source": [
    "train_data[10]"
   ]
  },
  {
   "cell_type": "code",
   "execution_count": 4,
   "metadata": {},
   "outputs": [
    {
     "data": {
      "text/plain": [
       "'? ? ? said as a result of its december acquisition of space co it expects earnings per share in 1987 of 1 15 to 1 30 dlrs per share up from 70 cts in 1986 the company said pretax net should rise to nine to 10 mln dlrs from six mln dlrs in 1986 and rental operation revenues to 19 to 22 mln dlrs from 12 5 mln dlrs it said cash flow per share this year should be 2 50 to three dlrs reuter 3'"
      ]
     },
     "execution_count": 4,
     "metadata": {},
     "output_type": "execute_result"
    }
   ],
   "source": [
    "word_index = reuters.get_word_index()\n",
    "reverse_word_index = dict([(value, key) for (key, value) in word_index.items()])\n",
    "decoded_newswire = ' '.join([reverse_word_index.get(i - 3, '?') for i in\n",
    "    train_data[0]])\n",
    "decoded_newswire"
   ]
  },
  {
   "cell_type": "code",
   "execution_count": 5,
   "metadata": {},
   "outputs": [],
   "source": [
    "import numpy as np\n",
    "\n",
    "def vectorize_sequences(sequences, dimension=10000):\n",
    "    results = np.zeros((len(sequences), dimension))\n",
    "    for i, sequence in enumerate(sequences):\n",
    "        results[i, sequence] = 1.\n",
    "    return results\n",
    "\n",
    "x_train = vectorize_sequences(train_data)\n",
    "x_test = vectorize_sequences(test_data)\n"
   ]
  },
  {
   "cell_type": "code",
   "execution_count": 6,
   "metadata": {},
   "outputs": [],
   "source": [
    "def to_one_hot(labels, dimension=46):\n",
    "    results = np.zeros((len(labels), dimension))\n",
    "    for i, label in enumerate(labels):\n",
    "        results[i, label] = 1.\n",
    "    return results\n",
    "\n",
    "one_hot_train_labels = to_one_hot(train_labels)\n",
    "one_hot_test_labels = to_one_hot(test_labels)\n"
   ]
  },
  {
   "cell_type": "markdown",
   "metadata": {},
   "source": [
    "Built in method"
   ]
  },
  {
   "cell_type": "code",
   "execution_count": 7,
   "metadata": {},
   "outputs": [],
   "source": [
    "from keras.utils.np_utils import to_categorical\n",
    "\n",
    "one_hot_train_labels = to_categorical(train_labels)\n",
    "one_hot_test_labels = to_categorical(test_labels)"
   ]
  },
  {
   "cell_type": "code",
   "execution_count": 8,
   "metadata": {},
   "outputs": [],
   "source": [
    "from keras import models\n",
    "from keras import layers\n",
    "\n",
    "model = models.Sequential()\n",
    "model.add(layers.Dense(64, activation='relu', input_shape=(10000,)))\n",
    "model.add(layers.Dense(64, activation='relu'))\n",
    "model.add(layers.Dense(46, activation='softmax'))"
   ]
  },
  {
   "cell_type": "code",
   "execution_count": 9,
   "metadata": {},
   "outputs": [],
   "source": [
    "model.compile(optimizer='rmsprop',\n",
    "              loss='categorical_crossentropy',\n",
    "              metrics=['accuracy'])"
   ]
  },
  {
   "cell_type": "code",
   "execution_count": 10,
   "metadata": {},
   "outputs": [],
   "source": [
    "x_val = x_train[:1000]\n",
    "partial_x_train = x_train[1000:]\n",
    "\n",
    "y_val = one_hot_train_labels[:1000]\n",
    "partial_y_train = one_hot_train_labels[1000:]"
   ]
  },
  {
   "cell_type": "code",
   "execution_count": 11,
   "metadata": {},
   "outputs": [
    {
     "name": "stdout",
     "output_type": "stream",
     "text": [
      "Train on 7982 samples, validate on 1000 samples\n",
      "Epoch 1/5\n",
      "7982/7982 [==============================] - 2s 192us/step - loss: 2.6368 - accuracy: 0.4967 - val_loss: 1.7836 - val_accuracy: 0.6180\n",
      "Epoch 2/5\n",
      "7982/7982 [==============================] - 1s 88us/step - loss: 1.4477 - accuracy: 0.6971 - val_loss: 1.3045 - val_accuracy: 0.7200\n",
      "Epoch 3/5\n",
      "7982/7982 [==============================] - 1s 88us/step - loss: 1.0554 - accuracy: 0.7769 - val_loss: 1.1269 - val_accuracy: 0.7610\n",
      "Epoch 4/5\n",
      "7982/7982 [==============================] - 1s 103us/step - loss: 0.8325 - accuracy: 0.8274 - val_loss: 1.0330 - val_accuracy: 0.7690\n",
      "Epoch 5/5\n",
      "7982/7982 [==============================] - 1s 95us/step - loss: 0.6667 - accuracy: 0.8656 - val_loss: 0.9700 - val_accuracy: 0.7900\n"
     ]
    }
   ],
   "source": [
    "history = model.fit(partial_x_train,\n",
    "                    partial_y_train,\n",
    "                    epochs=5,\n",
    "                    batch_size=512,\n",
    "                    validation_data=(x_val, y_val))"
   ]
  },
  {
   "cell_type": "code",
   "execution_count": 12,
   "metadata": {},
   "outputs": [
    {
     "data": {
      "image/png": "[encoded data removed]",
      "text/plain": [
       "<Figure size 432x288 with 1 Axes>"
      ]
     },
     "metadata": {
      "needs_background": "light"
     },
     "output_type": "display_data"
    }
   ],
   "source": [
    "import matplotlib.pyplot as plt\n",
    "\n",
    "loss = history.history['loss']\n",
    "val_loss = history.history['val_loss']\n",
    "\n",
    "epochs = range(1, len(loss) + 1)\n",
    "\n",
    "plt.plot(epochs, loss, 'bo', label='Training loss')\n",
    "plt.plot(epochs, val_loss, 'b', label='Validation loss')\n",
    "plt.title('Training and validation loss')\n",
    "plt.xlabel('Epochs')\n",
    "plt.ylabel('Loss')\n",
    "plt.legend()\n",
    "\n",
    "plt.show()"
   ]
  },
  {
   "cell_type": "code",
   "execution_count": 13,
   "metadata": {},
   "outputs": [
    {
     "data": {
      "image/png": "[encoded data removed]",
      "text/plain": [
       "<Figure size 432x288 with 1 Axes>"
      ]
     },
     "metadata": {
      "needs_background": "light"
     },
     "output_type": "display_data"
    }
   ],
   "source": [
    "plt.clf()\n",
    "\n",
    "acc = history.history['accuracy']\n",
    "val_acc = history.history['val_accuracy']\n",
    "\n",
    "plt.plot(epochs, acc, 'bo', label='Training acc')\n",
    "plt.plot(epochs, val_acc, 'b', label='Validation acc')\n",
    "plt.title('Training and validation accuracy')\n",
    "plt.xlabel('Epochs')\n",
    "plt.ylabel('Loss')\n",
    "plt.legend()\n",
    "\n",
    "plt.show()\n"
   ]
  },
  {
   "cell_type": "code",
   "execution_count": 14,
   "metadata": {},
   "outputs": [
    {
     "name": "stdout",
     "output_type": "stream",
     "text": [
      "Train on 7982 samples, validate on 1000 samples\n",
      "Epoch 1/7\n",
      "7982/7982 [==============================] - 1s 158us/step - loss: 2.6686 - accuracy: 0.4778 - val_loss: 1.7502 - val_accuracy: 0.6550\n",
      "Epoch 2/7\n",
      "7982/7982 [==============================] - 1s 95us/step - loss: 1.4163 - accuracy: 0.7112 - val_loss: 1.3315 - val_accuracy: 0.6970\n",
      "Epoch 3/7\n",
      "7982/7982 [==============================] - 1s 92us/step - loss: 1.0482 - accuracy: 0.7745 - val_loss: 1.1718 - val_accuracy: 0.7470\n",
      "Epoch 4/7\n",
      "7982/7982 [==============================] - 1s 108us/step - loss: 0.8263 - accuracy: 0.8255 - val_loss: 1.0677 - val_accuracy: 0.7770\n",
      "Epoch 5/7\n",
      "7982/7982 [==============================] - 1s 99us/step - loss: 0.6592 - accuracy: 0.8601 - val_loss: 1.0005 - val_accuracy: 0.7900\n",
      "Epoch 6/7\n",
      "7982/7982 [==============================] - 1s 128us/step - loss: 0.5262 - accuracy: 0.8904 - val_loss: 0.9521 - val_accuracy: 0.8030\n",
      "Epoch 7/7\n",
      "7982/7982 [==============================] - 1s 97us/step - loss: 0.4232 - accuracy: 0.9127 - val_loss: 0.9311 - val_accuracy: 0.8130\n",
      "2246/2246 [==============================] - 0s 102us/step\n"
     ]
    }
   ],
   "source": [
    "model = models.Sequential()\n",
    "model.add(layers.Dense(64, activation='relu', input_shape=(10000,)))\n",
    "model.add(layers.Dense(64, activation='relu'))\n",
    "model.add(layers.Dense(46, activation='softmax'))\n",
    "\n",
    "model.compile(optimizer='rmsprop',\n",
    "              loss='categorical_crossentropy',\n",
    "              metrics=['accuracy'])\n",
    "model.fit(partial_x_train,\n",
    "          partial_y_train,\n",
    "          epochs=7,\n",
    "          batch_size=512,\n",
    "          validation_data=(x_val, y_val))\n",
    "results = model.evaluate(x_test, one_hot_test_labels)"
   ]
  },
  {
   "cell_type": "code",
   "execution_count": 15,
   "metadata": {},
   "outputs": [
    {
     "data": {
      "text/plain": [
       "[0.9565213431445807, 0.7969723953695459]"
      ]
     },
     "execution_count": 15,
     "metadata": {},
     "output_type": "execute_result"
    }
   ],
   "source": [
    ">>> results\n",
    "[0.9565213431445807, 0.79697239536954589]"
   ]
  },
  {
   "cell_type": "code",
   "execution_count": 16,
   "metadata": {},
   "outputs": [
    {
     "data": {
      "image/png": "[encoded data removed]",
      "text/plain": [
       "<Figure size 432x288 with 1 Axes>"
      ]
     },
     "metadata": {
      "needs_background": "light"
     },
     "output_type": "display_data"
    }
   ],
   "source": [
    "import matplotlib.pyplot as plt\n",
    "\n",
    "loss = history.history['loss']\n",
    "val_loss = history.history['val_loss']\n",
    "\n",
    "epochs = range(1, len(loss) + 1)\n",
    "\n",
    "plt.plot(epochs, loss, 'bo', label='Training loss')\n",
    "plt.plot(epochs, val_loss, 'b', label='Validation loss')\n",
    "plt.title('Training and validation loss')\n",
    "plt.xlabel('Epochs')\n",
    "plt.ylabel('Loss')\n",
    "plt.legend()\n",
    "\n",
    "plt.show()"
   ]
  },
  {
   "cell_type": "code",
   "execution_count": 17,
   "metadata": {},
   "outputs": [
    {
     "data": {
      "text/plain": [
       "0.18655387355298308"
      ]
     },
     "execution_count": 17,
     "metadata": {},
     "output_type": "execute_result"
    }
   ],
   "source": [
    ">>> import copy\n",
    ">>> test_labels_copy = copy.copy(test_labels)\n",
    ">>> np.random.shuffle(test_labels_copy)\n",
    ">>> hits_array = np.array(test_labels) == np.array(test_labels_copy)\n",
    ">>> float(np.sum(hits_array)) / len(test_labels)\n",
    "0.18655387355298308"
   ]
  },
  {
   "cell_type": "code",
   "execution_count": 18,
   "metadata": {},
   "outputs": [],
   "source": [
    "predictions = model.predict(x_test)"
   ]
  },
  {
   "cell_type": "code",
   "execution_count": 19,
   "metadata": {},
   "outputs": [
    {
     "data": {
      "text/plain": [
       "(46,)"
      ]
     },
     "execution_count": 19,
     "metadata": {},
     "output_type": "execute_result"
    }
   ],
   "source": [
    ">>> predictions[0].shape\n",
    "(46,)"
   ]
  },
  {
   "cell_type": "code",
   "execution_count": 20,
   "metadata": {},
   "outputs": [],
   "source": [
    "model.compile(optimizer='rmsprop',\n",
    "              loss='sparse_categorical_crossentropy',\n",
    "              metrics=['acc'])\n"
   ]
  },
  {
   "cell_type": "code",
   "execution_count": 21,
   "metadata": {},
   "outputs": [
    {
     "name": "stdout",
     "output_type": "stream",
     "text": [
      "Train on 7982 samples, validate on 1000 samples\n",
      "Epoch 1/20\n",
      "7982/7982 [==============================] - 2s 203us/step - loss: 3.1144 - accuracy: 0.2454 - val_loss: 2.2740 - val_accuracy: 0.5740\n",
      "Epoch 2/20\n",
      "7982/7982 [==============================] - 1s 141us/step - loss: 1.7142 - accuracy: 0.6446 - val_loss: 1.5052 - val_accuracy: 0.6580\n",
      "Epoch 3/20\n",
      "7982/7982 [==============================] - 1s 134us/step - loss: 1.2831 - accuracy: 0.6919 - val_loss: 1.3552 - val_accuracy: 0.6790\n",
      "Epoch 4/20\n",
      "7982/7982 [==============================] - 1s 137us/step - loss: 1.1072 - accuracy: 0.7231 - val_loss: 1.2948 - val_accuracy: 0.6900\n",
      "Epoch 5/20\n",
      "7982/7982 [==============================] - 1s 136us/step - loss: 0.9898 - accuracy: 0.7417 - val_loss: 1.2601 - val_accuracy: 0.6990\n",
      "Epoch 6/20\n",
      "7982/7982 [==============================] - 1s 146us/step - loss: 0.9007 - accuracy: 0.7597 - val_loss: 1.2516 - val_accuracy: 0.7040\n",
      "Epoch 7/20\n",
      "7982/7982 [==============================] - 1s 145us/step - loss: 0.8244 - accuracy: 0.7796 - val_loss: 1.2550 - val_accuracy: 0.7050\n",
      "Epoch 8/20\n",
      "7982/7982 [==============================] - 1s 152us/step - loss: 0.7592 - accuracy: 0.7942 - val_loss: 1.2654 - val_accuracy: 0.7040\n",
      "Epoch 9/20\n",
      "7982/7982 [==============================] - 1s 153us/step - loss: 0.7041 - accuracy: 0.8087 - val_loss: 1.2880 - val_accuracy: 0.7070\n",
      "Epoch 10/20\n",
      "7982/7982 [==============================] - 1s 165us/step - loss: 0.6516 - accuracy: 0.8191 - val_loss: 1.3045 - val_accuracy: 0.7070\n",
      "Epoch 11/20\n",
      "7982/7982 [==============================] - 1s 157us/step - loss: 0.6097 - accuracy: 0.8385 - val_loss: 1.3232 - val_accuracy: 0.7070\n",
      "Epoch 12/20\n",
      "7982/7982 [==============================] - 1s 157us/step - loss: 0.5688 - accuracy: 0.8452 - val_loss: 1.3593 - val_accuracy: 0.7100\n",
      "Epoch 13/20\n",
      "7982/7982 [==============================] - 1s 151us/step - loss: 0.5395 - accuracy: 0.8497 - val_loss: 1.4282 - val_accuracy: 0.7040\n",
      "Epoch 14/20\n",
      "7982/7982 [==============================] - 1s 157us/step - loss: 0.5104 - accuracy: 0.8545 - val_loss: 1.4466 - val_accuracy: 0.7070\n",
      "Epoch 15/20\n",
      "7982/7982 [==============================] - 1s 170us/step - loss: 0.4838 - accuracy: 0.8571 - val_loss: 1.5126 - val_accuracy: 0.7080\n",
      "Epoch 16/20\n",
      "7982/7982 [==============================] - 1s 167us/step - loss: 0.4617 - accuracy: 0.8609 - val_loss: 1.5418 - val_accuracy: 0.7080\n",
      "Epoch 17/20\n",
      "7982/7982 [==============================] - 1s 150us/step - loss: 0.4398 - accuracy: 0.8680 - val_loss: 1.6014 - val_accuracy: 0.6960\n",
      "Epoch 18/20\n",
      "7982/7982 [==============================] - 1s 167us/step - loss: 0.4218 - accuracy: 0.8713 - val_loss: 1.6247 - val_accuracy: 0.7040\n",
      "Epoch 19/20\n",
      "7982/7982 [==============================] - 1s 152us/step - loss: 0.4050 - accuracy: 0.8792 - val_loss: 1.6983 - val_accuracy: 0.6970\n",
      "Epoch 20/20\n",
      "7982/7982 [==============================] - 1s 152us/step - loss: 0.3888 - accuracy: 0.8841 - val_loss: 1.8301 - val_accuracy: 0.6900\n"
     ]
    },
    {
     "data": {
      "text/plain": [
       "<keras.callbacks.callbacks.History at 0x7f99f7947950>"
      ]
     },
     "execution_count": 21,
     "metadata": {},
     "output_type": "execute_result"
    }
   ],
   "source": [
    "model = models.Sequential()\n",
    "model.add(layers.Dense(64, activation='relu', input_shape=(10000,)))\n",
    "model.add(layers.Dense(4, activation='relu'))\n",
    "model.add(layers.Dense(46, activation='softmax'))\n",
    "\n",
    "model.compile(optimizer='rmsprop',\n",
    "              loss='categorical_crossentropy',\n",
    "              metrics=['accuracy'])\n",
    "model.fit(partial_x_train,\n",
    "          partial_y_train,\n",
    "          epochs=20,\n",
    "          batch_size=128,\n",
    "          validation_data=(x_val, y_val))"
   ]
  },
  {
   "cell_type": "code",
   "execution_count": null,
   "metadata": {},
   "outputs": [],
   "source": []
  }
 ],
 "metadata": {
  "kernelspec": {
   "display_name": "Python 3",
   "language": "python",
   "name": "python3"
  },
  "language_info": {
   "codemirror_mode": {
    "name": "ipython",
    "version": 3
   },
   "file_extension": ".py",
   "mimetype": "text/x-python",
   "name": "python",
   "nbconvert_exporter": "python",
   "pygments_lexer": "ipython3",
   "version": "3.7.7"
  }
 },
 "nbformat": 4,
 "nbformat_minor": 4
}
